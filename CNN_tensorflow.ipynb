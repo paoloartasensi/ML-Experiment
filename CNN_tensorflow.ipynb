{
 "cells": [
  {
   "cell_type": "code",
   "execution_count": 1,
   "metadata": {},
   "outputs": [],
   "source": [
    "import pandas as pd\n",
    "import numpy as np\n",
    "\n",
    "# Load the dataset from the CSV file\n",
    "dataset = pd.read_csv('dataset.csv')\n",
    "\n",
    "# Extract the accelerometer and gyro data and labels from the dataset\n",
    "accel_data = dataset.iloc[:, 0:3].values\n",
    "gyro_data = dataset.iloc[:, 3:6].values\n",
    "labels = dataset.iloc[:, 6].values\n",
    "\n",
    "# Normalize the accelerometer and gyro data\n",
    "accel_data = (accel_data - np.mean(accel_data, axis=0)) / np.std(accel_data, axis=0)\n",
    "gyro_data = (gyro_data - np.mean(gyro_data, axis=0)) / np.std(gyro_data, axis=0)\n",
    "\n",
    "# Combine the accelerometer and gyro data into a single array\n",
    "data = np.concatenate((accel_data, gyro_data), axis=1)\n",
    "\n",
    "# Split the data into training and testing sets\n",
    "train_data = data[:800]\n",
    "train_labels = labels[:800]\n",
    "test_data = data[800:]\n",
    "test_labels = labels[800:]\n"
   ]
  }
 ],
 "metadata": {
  "kernelspec": {
   "display_name": "base",
   "language": "python",
   "name": "python3"
  },
  "language_info": {
   "codemirror_mode": {
    "name": "ipython",
    "version": 3
   },
   "file_extension": ".py",
   "mimetype": "text/x-python",
   "name": "python",
   "nbconvert_exporter": "python",
   "pygments_lexer": "ipython3",
   "version": "3.9.15"
  },
  "orig_nbformat": 4
 },
 "nbformat": 4,
 "nbformat_minor": 2
}
